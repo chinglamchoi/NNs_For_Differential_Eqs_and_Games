{
 "cells": [
  {
   "cell_type": "markdown",
   "metadata": {},
   "source": [
    "# Write and Document Benchmark Examples for NeuralNetDiffEq.jl"
   ]
  },
  {
   "cell_type": "code",
   "execution_count": null,
   "metadata": {},
   "outputs": [],
   "source": [
    "using OrdinaryDiffEq, NeuralNetDiffEq, Plots, Flux"
   ]
  },
  {
   "cell_type": "markdown",
   "metadata": {},
   "source": [
    "### Example: Lotka-Voltera \n",
    "The Lotka-Volterra equations, also the predator-prey equations, models changes in population of prey and predator over time when they interact. This is an example of a first-order nonlinear coupled differential equations, described as:\n",
    "\n",
    "$$\\frac{dx}{dt}=\\alpha x -\\beta x y, \\; \\frac{dy}{dt}=\\delta x y-\\gamma y$$\n",
    "where \n",
    "$x$ and $y$ are the prey and predator populations; $\\frac{dx}{dt}$ and $\\frac{dy}{dt}$ denote instantaneous growth rates. This interaction is parameterised by positive real parameters $\\alpha, \\beta, \\gamma, \\delta$"
   ]
  },
  {
   "cell_type": "code",
   "execution_count": null,
   "metadata": {},
   "outputs": [],
   "source": [
    "function f(du,u,p,t)\n",
    "  du[1] = p[1]*u[1] - p[2]*u[1]*u[2]\n",
    "  du[2] = -p[3]*u[2] + p[4]*u[1]*u[2]\n",
    "end\n",
    "function f(u,p,t)\n",
    "  [p[1]*u[1] - p[2]*u[1]*u[2],-p[3]*u[2] + p[4]*u[1]*u[2]]\n",
    "end"
   ]
  },
  {
   "cell_type": "code",
   "execution_count": null,
   "metadata": {},
   "outputs": [],
   "source": [
    "p = Float32[1.5,1.0,3.0,1.0]\n",
    "u0 = Float32[1.0,1.0]\n",
    "prob = ODEProblem(f,u0,(0f0,3f0),p)\n",
    "prob_oop = ODEProblem{false}(f,u0,(0f0,3f0),p)"
   ]
  },
  {
   "cell_type": "markdown",
   "metadata": {},
   "source": [
    "### Defining Model and Optimiser\n",
    "After many experiments, Adam and NADAM optimiser (with eta=1e-03) tend to outperform others, achieveing a loss as low as 44.6 in 100 epochs. All methods plateau after this loss, if it is reached at all. Larger models with up to 4096 channels tend to plateau at 51 loss within 100 iterations, while smaller models fail to achieve this accuracy. MaxPool layers do not seem to add value to the model."
   ]
  },
  {
   "cell_type": "code",
   "execution_count": null,
   "metadata": {},
   "outputs": [],
   "source": [
    "true_sol = solve(prob,Tsit5())\n",
    "\n",
    "opt = ADAM(1e-03) #1e-04\n",
    "# opt = NADAM()\n",
    "# opt = Nesterov()\n",
    "# opt = AMSGrad()\n",
    "# chain = Chain(x -> reshape(x, length(x), 1, 1), Conv((1,), 1=>16, relu), Conv((1,), 16=>8, relu), x -> reshape(x, :, size(x, 4)), Dense(8, 10), softmax)\n",
    "\n",
    "\n",
    "chain = Chain(\n",
    "    x -> reshape(x, length(x), 1, 1), \n",
    "    MaxPool((1,)), \n",
    "    Conv((1,), 1=>16, relu), \n",
    "    Conv((1,), 16=>16, relu), \n",
    "    Conv((1,), 16=>32, relu), \n",
    "    Conv((1,), 32=>64, relu), \n",
    "    Conv((1,), 64=>256, relu), \n",
    "    Conv((1,), 256=>256, relu), \n",
    "    Conv((1,), 256=>1028, relu), \n",
    "    Conv((1,), 1028=>1028), \n",
    "    x -> reshape(x, :, size(x, 4)), \n",
    "    Dense(1028, 512, tanh), \n",
    "    Dense(512, 128, relu), \n",
    "    Dense(128, 64, tanh), \n",
    "    Dense(64, 2), \n",
    "    softmax)\n",
    "\n",
    "# m = Chain(Conv((1,), 1=>16, relu), Conv((1,), 16=>8, relu), x -> reshape(x, :, size(x, 4)), Dense(16, length(u0)), softmax) "
   ]
  },
  {
   "cell_type": "code",
   "execution_count": null,
   "metadata": {},
   "outputs": [],
   "source": [
    "sol  = solve(prob_oop,NeuralNetDiffEq.NNODE(chain,opt),maxiters = 100, verbose = true, dt=1/5f0)"
   ]
  },
  {
   "cell_type": "code",
   "execution_count": 3,
   "metadata": {},
   "outputs": [
    {
     "data": {
      "text/plain": [
       "0.001"
      ]
     },
     "execution_count": 3,
     "metadata": {},
     "output_type": "execute_result"
    }
   ],
   "source": [
    "1e-03"
   ]
  },
  {
   "cell_type": "markdown",
   "metadata": {},
   "source": [
    "### Plotting"
   ]
  },
  {
   "cell_type": "code",
   "execution_count": null,
   "metadata": {},
   "outputs": [],
   "source": [
    "plot(true_sol)\n",
    "plot!(sol)\n",
    "# savefig(\"ADAM.png\")"
   ]
  }
 ],
 "metadata": {
  "kernelspec": {
   "display_name": "Julia 1.3.0",
   "language": "julia",
   "name": "julia-1.3"
  },
  "language_info": {
   "file_extension": ".jl",
   "mimetype": "application/julia",
   "name": "julia",
   "version": "1.3.0"
  }
 },
 "nbformat": 4,
 "nbformat_minor": 2
}
